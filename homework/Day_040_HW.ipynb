{
 "cells": [
  {
   "cell_type": "markdown",
   "metadata": {},
   "source": [
    "## 練習時間\n",
    "試著使用 sklearn datasets 的其他資料集 (boston, ...)，來訓練自己的線性迴歸模型，並加上適當的正則話來觀察訓練情形。"
   ]
  },
  {
   "cell_type": "code",
   "execution_count": 1,
   "metadata": {},
   "outputs": [],
   "source": [
    "import numpy as np\n",
    "import matplotlib.pyplot as plt\n",
    "from sklearn import datasets, linear_model\n",
    "from sklearn.model_selection import train_test_split\n",
    "from sklearn.metrics import mean_squared_error, r2_score"
   ]
  },
  {
   "cell_type": "code",
   "execution_count": 2,
   "metadata": {},
   "outputs": [],
   "source": [
    "x_ = datasets.load_boston().data\n",
    "y_ = datasets.load_boston().target\n",
    "\n",
    "# 切分訓練集/測試集\n",
    "x_train, x_test, y_train, y_test = train_test_split(x_, y_, test_size=0.2, random_state=4)\n",
    "\n",
    "# 建立一個線性回歸模型\n",
    "regr = linear_model.LinearRegression()\n",
    "\n",
    "# 將訓練資料丟進去模型訓練\n",
    "regr.fit(x_train, y_train)\n",
    "\n",
    "# 將測試資料丟進模型得到預測結果\n",
    "y_pred = regr.predict(x_test)"
   ]
  },
  {
   "cell_type": "code",
   "execution_count": 3,
   "metadata": {},
   "outputs": [
    {
     "name": "stdout",
     "output_type": "stream",
     "text": [
      "[-1.14743504e-01  4.70875035e-02  8.70282354e-03  3.23818824e+00\n",
      " -1.67240567e+01  3.87662996e+00 -1.08218769e-02 -1.54144627e+00\n",
      "  2.92604151e-01 -1.33989537e-02 -9.07306805e-01  8.91271054e-03\n",
      " -4.58747039e-01]\n",
      "Mean squared error: 25.41\n"
     ]
    }
   ],
   "source": [
    "print(regr.coef_)\n",
    "\n",
    "# 預測值與實際值的差距，使用 MSE\n",
    "print(\"Mean squared error: %.2f\"\n",
    "      % mean_squared_error(y_test, y_pred))"
   ]
  },
  {
   "cell_type": "markdown",
   "metadata": {},
   "source": [
    "## Lasso"
   ]
  },
  {
   "cell_type": "code",
   "execution_count": 9,
   "metadata": {},
   "outputs": [
    {
     "name": "stdout",
     "output_type": "stream",
     "text": [
      "Lasso with alpha : 0.001\n",
      "Mean squared error: 25.41\n",
      "Lasso with alpha : 0.01\n",
      "Mean squared error: 25.47\n",
      "Lasso with alpha : 0.1\n",
      "Mean squared error: 26.44\n",
      "Lasso with alpha : 1.0\n",
      "Mean squared error: 28.95\n",
      "Lasso with alpha : 10\n",
      "Mean squared error: 47.63\n"
     ]
    }
   ],
   "source": [
    "for alpha in [1e-3, 1e-2, 1e-1, 1e-0, 10]:\n",
    "    \n",
    "    print('Lasso with alpha :',alpha)\n",
    "    \n",
    "    # 建立一個線性回歸模型\n",
    "    lasso = linear_model.Lasso(alpha=alpha)\n",
    "\n",
    "    # 將訓練資料丟進去模型訓練\n",
    "    lasso.fit(x_train, y_train)\n",
    "    y_pred = lasso.predict(x_test)\n",
    "\n",
    "    # 預測值與實際值的差距，使用 MSE\n",
    "    print(\"Mean squared error: %.2f\"\n",
    "          % mean_squared_error(y_test, y_pred))"
   ]
  },
  {
   "cell_type": "markdown",
   "metadata": {},
   "source": [
    "## Ridge"
   ]
  },
  {
   "cell_type": "code",
   "execution_count": 10,
   "metadata": {},
   "outputs": [
    {
     "name": "stdout",
     "output_type": "stream",
     "text": [
      "Ridge with alpha : 0.001\n",
      "Mean squared error: 25.41\n",
      "Ridge with alpha : 0.01\n",
      "Mean squared error: 25.41\n",
      "Ridge with alpha : 0.1\n",
      "Mean squared error: 25.41\n",
      "Ridge with alpha : 1.0\n",
      "Mean squared error: 25.41\n",
      "Ridge with alpha : 10\n",
      "Mean squared error: 25.41\n"
     ]
    }
   ],
   "source": [
    "for alpha in [1e-3, 1e-2, 1e-1, 1e-0, 10]:\n",
    "    \n",
    "    print('Ridge with alpha :', alpha)\n",
    "    \n",
    "    # 建立一個線性回歸模型\n",
    "    ridge = linear_model.Ridge(alpha=alpha)\n",
    "\n",
    "    ridge.fit(x_train, y_train)\n",
    "    y_pred = regr.predict(x_test)\n",
    "\n",
    "    # 預測值與實際值的差距，使用 MSE\n",
    "    print(\"Mean squared error: %.2f\"\n",
    "          % mean_squared_error(y_test, y_pred))"
   ]
  }
 ],
 "metadata": {
  "kernelspec": {
   "display_name": "Python 3",
   "language": "python",
   "name": "python3"
  },
  "language_info": {
   "codemirror_mode": {
    "name": "ipython",
    "version": 3
   },
   "file_extension": ".py",
   "mimetype": "text/x-python",
   "name": "python",
   "nbconvert_exporter": "python",
   "pygments_lexer": "ipython3",
   "version": "3.6.4"
  }
 },
 "nbformat": 4,
 "nbformat_minor": 2
}
