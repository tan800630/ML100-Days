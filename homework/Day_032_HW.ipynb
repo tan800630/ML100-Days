{
 "cells": [
  {
   "cell_type": "markdown",
   "metadata": {},
   "source": [
    "## 練習時間\n",
    "相信大家目前都能夠初步了解機器學習專案的流程及步驟，今天的作業希望大家能夠看看全球機器學習巨頭們在做的機器學習專案。以 google 為例，下圖是 Google 內部專案使用機器學習的數量，隨著時間進展，現在早已超過 2000 個專案在使用 ML。"
   ]
  },
  {
   "cell_type": "markdown",
   "metadata": {},
   "source": [
    "![image](https://cdn-images-1.medium.com/max/800/1*U_L8qI8RmYS-MOBrYvXhSA.png)"
   ]
  },
  {
   "cell_type": "markdown",
   "metadata": {},
   "source": [
    "底下幫同學整理幾間知名企業的 blog 或機器學習網站 (自行搜尋也可)，請挑選一篇文章閱讀並試著回答\n",
    "1. 專案的目標？ (要解決什麼問題）\n",
    "2. 使用的技術是？ (只需知道名稱即可，例如：使用 CNN 卷積神經網路做影像分類)\n",
    "3. 資料來源？ "
   ]
  },
  {
   "cell_type": "markdown",
   "metadata": {},
   "source": [
    "- [Google AI blog](https://ai.googleblog.com/)\n",
    "- [Facebook Research blog](https://research.fb.com/blog/)\n",
    "- [Apple machine learning journal](https://machinelearning.apple.com/)\n",
    "- [機器之心](https://www.jiqizhixin.com/)\n",
    "- [雷鋒網](http://www.leiphone.com/category/ai)"
   ]
  },
  {
   "cell_type": "markdown",
   "metadata": {},
   "source": [
    "1. 專案目標：以影片中的人臉進行多項分析與評估作業(心理健康、個人信用、人格測驗)，認為後續可應用於銀行簽核文件、公司面試、法庭審問等多個情境中。\n",
    "2. 使用的技術：目前看起來多項作業所使用的模型仍然是各自獨立的，因此以下分別整理\n",
    "    - 人臉檢測：opencv與MTCNN，做人臉裁切與校正\n",
    "    - 心理健康診斷：以人臉圖像為輸入，使用Inception V3接SVM模型做分類\n",
    "    - 信用評分：使用已訓練好的信用評分模型(ResNet34)做辨認，pretrain dataset 使用\"个人信用人脸图像序列数据集\" (?)\n",
    "    - 五重性格評估：同上，模型亦為ResNet34，pretrain dataset使用\"五重性格人脸图像序列数据集\" (?)\n",
    "3. 資料來源：與醫院合作收集真實患者數據、亦由社群媒體收集其在網路上的訊息\n",
    "\n",
    "[來源](https://www.leiphone.com/news/201901/YZUq3paf3OfuXsax.html)"
   ]
  }
 ],
 "metadata": {
  "kernelspec": {
   "display_name": "Python 3",
   "language": "python",
   "name": "python3"
  },
  "language_info": {
   "codemirror_mode": {
    "name": "ipython",
    "version": 3
   },
   "file_extension": ".py",
   "mimetype": "text/x-python",
   "name": "python",
   "nbconvert_exporter": "python",
   "pygments_lexer": "ipython3",
   "version": "3.6.4"
  }
 },
 "nbformat": 4,
 "nbformat_minor": 2
}
